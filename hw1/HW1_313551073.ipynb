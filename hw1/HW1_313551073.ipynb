{
 "cells": [
  {
   "cell_type": "markdown",
   "metadata": {},
   "source": [
    "## Main"
   ]
  },
  {
   "cell_type": "code",
   "execution_count": 18,
   "metadata": {},
   "outputs": [],
   "source": [
    "import numpy as np\n",
    "import pandas as pd\n",
    "from enum import IntEnum\n",
    "from tqdm import tqdm\n",
    "import csv\n",
    "import matplotlib.pyplot as plt"
   ]
  },
  {
   "cell_type": "markdown",
   "metadata": {},
   "source": [
    "### Data Preprocessing"
   ]
  },
  {
   "cell_type": "code",
   "execution_count": 19,
   "metadata": {},
   "outputs": [],
   "source": [
    "class PM2_5:\n",
    "    def __init__(self, mode):\n",
    "        self.file_path = 'train.csv' if mode == 'train' else 'test.csv'\n",
    "        self.mode = mode\n",
    "        self.x = np.array([0])\n",
    "        self.y = np.array([0])\n",
    "\n",
    "        # preprocessing data (get rid of unimportant data)\n",
    "        if mode == 'train':\n",
    "            df = pd.read_csv(self.file_path)\n",
    "        else:\n",
    "            df = pd.read_csv(self.file_path, header=None)\n",
    "            df.columns = ['Location', 'ItemName', '0', '1', '2', '3', '4', '5', '6', '7', '8']\n",
    "\n",
    "        for col in df.columns:\n",
    "            if not col.isnumeric():\n",
    "                df = df.drop(col, axis='columns')\n",
    "        df.replace('[#*xA\\s]', np.nan, inplace=True, regex = True)  # replace invalid data with np.nan\n",
    "        df = df.astype(float)\n",
    "\n",
    "        # handling invalid data (replace invalid data by mean value)\n",
    "        self.nparray = df.to_numpy()\n",
    "        for i in range(self.nparray.shape[0]):\n",
    "            for j in range(self.nparray.shape[1]):\n",
    "                if np.isnan(self.nparray[i][j]):\n",
    "                    self.nparray[i][j] = np.nanmean(self.nparray[i])\n",
    "\n",
    "    # get data by choosen features (the wanted item should be chosed)\n",
    "    def pred_by_features(self, feature_idx):\n",
    "        # initialize\n",
    "        self.x = np.zeros((1, len(feature_idx), 9))\n",
    "        self.y = np.zeros((1, len(feature_idx)))\n",
    "        \n",
    "        for i in range(0, self.nparray.shape[0], 18):\n",
    "            # training data\n",
    "            if self.mode == 'train':\n",
    "                for j in range(self.nparray.shape[1]-9):\n",
    "                    x_rows = [[self.nparray[i+k, j:j+9]] for k in feature_idx]  # get 9 hours data for all choosen features\n",
    "                    x_data = [np.concatenate(x_rows, axis=0)]\n",
    "                    y_rows = [[self.nparray[i+k, j+9]] for k in feature_idx]    # get the corresponding value for all choosen features\n",
    "                    y_data = [np.concatenate(y_rows, axis=0)]\n",
    "                    if not np.any(np.isnan(x_data)) and not np.any(np.isnan(y_data)):\n",
    "                        self.x = np.append(self.x, x_data, axis=0)\n",
    "                        self.y = np.append(self.y, y_data, axis=0)\n",
    "            # testing data (no ground truth value)\n",
    "            else:\n",
    "                x_rows = [[self.nparray[i+k]] for k in feature_idx]\n",
    "                x_data = [np.concatenate(x_rows, axis=0)]\n",
    "                if not np.any(np.isnan(x_data)):\n",
    "                    self.x = np.append(self.x, x_data, axis=0)\n",
    "\n",
    "        if self.mode == 'train':\n",
    "            return self.x, self.y\n",
    "        else:\n",
    "            return self.x"
   ]
  },
  {
   "cell_type": "code",
   "execution_count": 21,
   "metadata": {},
   "outputs": [],
   "source": [
    "# define feature idx for futher use\n",
    "class Item(IntEnum):\n",
    "    AMB_TEMP = 0\n",
    "    CH4 = 1\n",
    "    CO = 2\n",
    "    NMHC = 3\n",
    "    NO = 4\n",
    "    NO2 = 5\n",
    "    NOx = 6\n",
    "    O3 = 7\n",
    "    PM10 = 8\n",
    "    PM2_5 = 9\n",
    "    RAINFALL = 10\n",
    "    RH = 11\n",
    "    SO2 = 12\n",
    "    THC = 13\n",
    "    WD_HR = 14\n",
    "    WIND_DIREC = 15\n",
    "    WIND_SPEED = 16\n",
    "    WS_HR = 17"
   ]
  },
  {
   "cell_type": "markdown",
   "metadata": {},
   "source": [
    "### Linear Regression Model"
   ]
  },
  {
   "cell_type": "code",
   "execution_count": 30,
   "metadata": {},
   "outputs": [],
   "source": [
    "class LinearRegression:\n",
    "    def __init__(self, learning_rate=0.1, n_iterations=1000, alpha = 0):\n",
    "        self.weights = None\n",
    "        self.bias = None\n",
    "        self.learning_rate = learning_rate\n",
    "        self.n_iterations = n_iterations\n",
    "        self.alpha = alpha  # L2 regularization (default: don't use)\n",
    "\n",
    "    def fit(self, X, y):\n",
    "        n_samples, n_features = X.shape\n",
    "        self.weights = np.zeros(n_features)\n",
    "        self.bias = 0\n",
    "\n",
    "        for i in tqdm(range(self.n_iterations)):\n",
    "            y_pred = X @ self.weights + self.bias\n",
    "            error = y_pred - y\n",
    "\n",
    "            # calculating gradient\n",
    "            dw = (2 / n_samples) * (X.T @ error + self.alpha * self.weights)\n",
    "            db = (2 / n_samples) * np.sum(error)\n",
    "\n",
    "            # update weights and bias\n",
    "            self.weights -= self.learning_rate * dw\n",
    "            self.bias -= self.learning_rate * db\n",
    "\n",
    "    def predict(self, X):\n",
    "        if self.weights is None or self.bias is None:\n",
    "            raise ValueError(\"Model has not been trained yet.\")\n",
    "        return X @ self.weights + self.bias\n",
    "        \n",
    "    def initialize(self):\n",
    "        self.weights = None\n",
    "        self.bias = None"
   ]
  },
  {
   "cell_type": "markdown",
   "metadata": {},
   "source": [
    "### Start Training and Evaluation"
   ]
  },
  {
   "cell_type": "code",
   "execution_count": null,
   "metadata": {},
   "outputs": [],
   "source": [
    "choosen_features = [item for item in Item if item != Item.SO2]  # use 17 features to predict pm2.5 value\n",
    "# choosen_features = [Item.PM10, Item.PM2_5, Item.CO]  # 3 features"
   ]
  },
  {
   "cell_type": "code",
   "execution_count": null,
   "metadata": {},
   "outputs": [],
   "source": [
    "# getting data\n",
    "train_dataset = PM2_5('train')\n",
    "test_dataset = PM2_5('test')\n",
    "X_train, y_train = train_dataset.pred_by_features(choosen_features)\n",
    "X_test = test_dataset.pred_by_features(choosen_features)\n",
    "\n",
    "# drop the initialization value\n",
    "X_train = np.delete(X_train, np.s_[0], axis=0)\n",
    "y_train = np.delete(y_train, np.s_[0], axis=0)\n",
    "X_test = np.delete(X_test, np.s_[0], axis=0)"
   ]
  },
  {
   "cell_type": "code",
   "execution_count": null,
   "metadata": {},
   "outputs": [],
   "source": [
    "# reshape data for fitting the input shape of linear regression\n",
    "n_train, dim1, dim2 = X_train.shape\n",
    "n_test, dim1, dim2 = X_test.shape\n",
    "\n",
    "X_train = X_train.reshape(n_train * dim1, dim2)\n",
    "y_train = y_train.reshape(n_train * dim1)\n",
    "X_test = X_test.reshape(n_test * dim1, dim2)"
   ]
  },
  {
   "cell_type": "code",
   "execution_count": null,
   "metadata": {},
   "outputs": [],
   "source": [
    "# training\n",
    "model = LinearRegression(learning_rate=2e-5, n_iterations=10000)\n",
    "model.fit(X_train, y_train)\n",
    "\n",
    "# predict\n",
    "y_pred = model.predict(X_test)\n",
    "\n",
    "with open('submission.csv', 'w', newline='') as f:\n",
    "    writer = csv.writer(f)\n",
    "    writer.writerow(['index', 'answer'])\n",
    "    j = 0\n",
    "    for i in range(choosen_features.index(Item.PM2_5), y_pred.shape[0], len(choosen_features)):\n",
    "        writer.writerow([f'index_{j}', f'{y_pred[i]:.2f}'])\n",
    "        j += 1 "
   ]
  },
  {
   "cell_type": "markdown",
   "metadata": {},
   "source": [
    "## Experiments"
   ]
  },
  {
   "cell_type": "markdown",
   "metadata": {},
   "source": [
    "### Effect of Type of Training Data on Prediction Accuracy"
   ]
  },
  {
   "cell_type": "code",
   "execution_count": 27,
   "metadata": {},
   "outputs": [
    {
     "name": "stderr",
     "output_type": "stream",
     "text": [
      "/tmp/ipykernel_889965/1850177894.py:26: RuntimeWarning: Mean of empty slice\n",
      "  self.nparray[i][j] = np.nanmean(self.nparray[i])\n",
      "/tmp/ipykernel_889965/1850177894.py:26: RuntimeWarning: Mean of empty slice\n",
      "  self.nparray[i][j] = np.nanmean(self.nparray[i])\n",
      "100%|██████████| 10000/10000 [00:03<00:00, 3140.60it/s]\n",
      "/tmp/ipykernel_889965/1850177894.py:26: RuntimeWarning: Mean of empty slice\n",
      "  self.nparray[i][j] = np.nanmean(self.nparray[i])\n"
     ]
    },
    {
     "name": "stdout",
     "output_type": "stream",
     "text": [
      "=> 3correlated data rmse: 4.233001965598413\n",
      "\n"
     ]
    },
    {
     "name": "stderr",
     "output_type": "stream",
     "text": [
      "/tmp/ipykernel_889965/1850177894.py:26: RuntimeWarning: Mean of empty slice\n",
      "  self.nparray[i][j] = np.nanmean(self.nparray[i])\n",
      "100%|██████████| 10000/10000 [00:04<00:00, 2256.81it/s]\n",
      "/tmp/ipykernel_889965/1850177894.py:26: RuntimeWarning: Mean of empty slice\n",
      "  self.nparray[i][j] = np.nanmean(self.nparray[i])\n"
     ]
    },
    {
     "name": "stdout",
     "output_type": "stream",
     "text": [
      "=> 4correlated data rmse: 4.854093312678262\n",
      "\n"
     ]
    },
    {
     "name": "stderr",
     "output_type": "stream",
     "text": [
      "/tmp/ipykernel_889965/1850177894.py:26: RuntimeWarning: Mean of empty slice\n",
      "  self.nparray[i][j] = np.nanmean(self.nparray[i])\n",
      "100%|██████████| 10000/10000 [00:03<00:00, 3015.74it/s]\n",
      "/tmp/ipykernel_889965/1850177894.py:26: RuntimeWarning: Mean of empty slice\n",
      "  self.nparray[i][j] = np.nanmean(self.nparray[i])\n"
     ]
    },
    {
     "name": "stdout",
     "output_type": "stream",
     "text": [
      "=> factor data rmse: 3.2400553944725976\n",
      "\n"
     ]
    },
    {
     "name": "stderr",
     "output_type": "stream",
     "text": [
      "/tmp/ipykernel_889965/1850177894.py:26: RuntimeWarning: Mean of empty slice\n",
      "  self.nparray[i][j] = np.nanmean(self.nparray[i])\n",
      "100%|██████████| 10000/10000 [07:15<00:00, 22.98it/s]\n"
     ]
    },
    {
     "name": "stdout",
     "output_type": "stream",
     "text": [
      "=> all data rmse: 21.917131479119675\n",
      "\n"
     ]
    },
    {
     "data": {
      "image/png": "[encoded data removed]",
      "text/plain": [
       "<Figure size 800x500 with 1 Axes>"
      ]
     },
     "metadata": {},
     "output_type": "display_data"
    }
   ],
   "source": [
    "errors = []\n",
    "\n",
    "# initialize datasets\n",
    "choosen_features_list = [[Item.PM2_5, Item.PM10, Item.NO2, Item.CO],            # top 3 highly linear correlated\n",
    "                         [Item.PM2_5, Item.PM10, Item.NO2, Item.CO, Item.O3],   # top 4 highly linear correlated\n",
    "                         [Item.PM2_5, Item.WIND_SPEED, Item.RH, Item.NO2],      # factors influencing variation\n",
    "                         [item for item in Item if item != Item.SO2]]           # all features except for SO2\n",
    "save_name_list = ['3correlated','4correlated', 'factor', 'all']\n",
    "\n",
    "\n",
    "# start experiment\n",
    "for choosen_features, save_name in zip(choosen_features_list, save_name_list):\n",
    "    # initialize data\n",
    "    train_dataset = PM2_5('train')\n",
    "    test_dataset = PM2_5('test')\n",
    "    X_train, y_train = train_dataset.pred_by_features(choosen_features)\n",
    "    X_test = test_dataset.pred_by_features(choosen_features)\n",
    "\n",
    "    X_train = np.delete(X_train, np.s_[0], axis=0)\n",
    "    y_train = np.delete(y_train, np.s_[0], axis=0)\n",
    "    X_test = np.delete(X_test, np.s_[0], axis=0)\n",
    "\n",
    "    n_train, dim1, dim2 = X_train.shape\n",
    "    n_test, dim1, dim2 = X_test.shape\n",
    "\n",
    "    X_train = X_train.reshape(n_train * dim1, dim2)\n",
    "    y_train = y_train.reshape(n_train * dim1)\n",
    "    X_test = X_test.reshape(n_test * dim1, dim2)\n",
    "    \n",
    "    # start training\n",
    "    model = LinearRegression(learning_rate=2e-5, n_iterations=10000)\n",
    "    model.initialize()\n",
    "    model.fit(X_train, y_train)\n",
    "    \n",
    "    y_pred_train = model.predict(X_train)\n",
    "    rmse = np.sqrt(np.mean((y_train - y_pred_train) ** 2))\n",
    "    errors.append(rmse)\n",
    "    print(f'=> {save_name} data rmse: {rmse}\\n')\n",
    "\n",
    "    y_pred = model.predict(X_test)\n",
    "\n",
    "    with open(f'submission_{save_name}.csv', 'w', newline='') as f:\n",
    "        writer = csv.writer(f)\n",
    "        writer.writerow(['index', 'answer'])\n",
    "        j = 0\n",
    "        for i in range(choosen_features.index(Item.PM2_5), y_pred.shape[0], len(choosen_features)):\n",
    "            writer.writerow([f'index_{j}', f'{y_pred[i]:.2f}'])\n",
    "            j += 1 \n",
    "\n",
    "# Plot results\n",
    "plt.figure(figsize=(8, 5))\n",
    "plt.plot(save_name_list, errors, marker='o', linestyle='-')\n",
    "plt.xlabel(\"Type of Training Data\")\n",
    "plt.ylabel(\"RMSE (PM2.5)\")\n",
    "plt.title(\"Effect of Type of Training Data on Prediction Accuracy\")\n",
    "plt.grid()\n",
    "plt.show()\n"
   ]
  },
  {
   "cell_type": "markdown",
   "metadata": {},
   "source": [
    "### Effect of Training Data Size on Prediction Accuracy"
   ]
  },
  {
   "cell_type": "code",
   "execution_count": 32,
   "metadata": {},
   "outputs": [
    {
     "name": "stderr",
     "output_type": "stream",
     "text": [
      "/tmp/ipykernel_889965/1850177894.py:26: RuntimeWarning: Mean of empty slice\n",
      "  self.nparray[i][j] = np.nanmean(self.nparray[i])\n",
      "/tmp/ipykernel_889965/1850177894.py:26: RuntimeWarning: Mean of empty slice\n",
      "  self.nparray[i][j] = np.nanmean(self.nparray[i])\n",
      "100%|██████████| 10000/10000 [00:00<00:00, 30005.27it/s]\n"
     ]
    },
    {
     "name": "stdout",
     "output_type": "stream",
     "text": [
      "=> 10% data size rmse: 4.695904430811767\n",
      "\n"
     ]
    },
    {
     "name": "stderr",
     "output_type": "stream",
     "text": [
      "100%|██████████| 10000/10000 [00:00<00:00, 17300.02it/s]\n"
     ]
    },
    {
     "name": "stdout",
     "output_type": "stream",
     "text": [
      "=> 25% data size rmse: 5.245328931418931\n",
      "\n"
     ]
    },
    {
     "name": "stderr",
     "output_type": "stream",
     "text": [
      "100%|██████████| 10000/10000 [00:00<00:00, 10722.26it/s]\n"
     ]
    },
    {
     "name": "stdout",
     "output_type": "stream",
     "text": [
      "=> 50% data size rmse: 4.632804601840904\n",
      "\n"
     ]
    },
    {
     "name": "stderr",
     "output_type": "stream",
     "text": [
      "100%|██████████| 10000/10000 [00:01<00:00, 7215.22it/s]\n"
     ]
    },
    {
     "name": "stdout",
     "output_type": "stream",
     "text": [
      "=> 75% data size rmse: 4.2363555656404035\n",
      "\n"
     ]
    },
    {
     "name": "stderr",
     "output_type": "stream",
     "text": [
      "100%|██████████| 10000/10000 [00:02<00:00, 4599.93it/s]\n"
     ]
    },
    {
     "name": "stdout",
     "output_type": "stream",
     "text": [
      "=> 100% data size rmse: 4.233001965598413\n",
      "\n"
     ]
    },
    {
     "data": {
      "image/png": "[encoded data removed]",
      "text/plain": [
       "<Figure size 800x500 with 1 Axes>"
      ]
     },
     "metadata": {},
     "output_type": "display_data"
    }
   ],
   "source": [
    "# Define different training data proportions\n",
    "train_sizes = [0.1, 0.25, 0.5, 0.75, 1.0]\n",
    "errors = []\n",
    "\n",
    "# initialize datasets\n",
    "choosen_features = [Item.PM2_5, Item.PM10, Item.NO2, Item.CO]   # using features that are highly correlated to value of PM2.5\n",
    "\n",
    "train_dataset = PM2_5('train')\n",
    "test_dataset = PM2_5('test')\n",
    "X_train, y_train = train_dataset.pred_by_features(choosen_features)\n",
    "X_test = test_dataset.pred_by_features(choosen_features)\n",
    "\n",
    "X_train = np.delete(X_train, np.s_[0], axis=0)\n",
    "y_train = np.delete(y_train, np.s_[0], axis=0)\n",
    "X_test = np.delete(X_test, np.s_[0], axis=0)\n",
    "\n",
    "n_train, dim1, dim2 = X_train.shape\n",
    "n_test, dim1, dim2 = X_test.shape\n",
    "\n",
    "X_train = X_train.reshape(n_train * dim1, dim2)\n",
    "y_train = y_train.reshape(n_train * dim1)\n",
    "X_test = X_test.reshape(n_test * dim1, dim2)\n",
    "\n",
    "# start experiment\n",
    "for size in train_sizes:\n",
    "    subset_size = int(size * X_train.shape[0])\n",
    "    X_sub, y_sub = X_train[:subset_size], y_train[:subset_size]\n",
    "    \n",
    "    model = LinearRegression(learning_rate=2e-5, n_iterations=10000)\n",
    "    model.initialize()\n",
    "    model.fit(X_sub, y_sub)\n",
    "    \n",
    "    y_pred_train = model.predict(X_sub)\n",
    "    rmse = np.sqrt(np.mean((y_sub - y_pred_train) ** 2))\n",
    "    errors.append(rmse)\n",
    "    print(f'=> {int(size * 100)}% data size rmse: {rmse}\\n')\n",
    "\n",
    "    y_pred = model.predict(X_test)\n",
    "\n",
    "    with open(f'submission_{int(size * 100)}.csv', 'w', newline='') as f:\n",
    "        writer = csv.writer(f)\n",
    "        writer.writerow(['index', 'answer'])\n",
    "        j = 0\n",
    "        for i in range(choosen_features.index(Item.PM2_5), y_pred.shape[0], len(choosen_features)):\n",
    "            writer.writerow([f'index_{j}', f'{y_pred[i]:.2f}'])\n",
    "            j += 1 \n",
    "\n",
    "# Plot results\n",
    "plt.figure(figsize=(8, 5))\n",
    "plt.plot(train_sizes, errors, marker='o', linestyle='-')\n",
    "plt.xlabel(\"Training Data Size (%)\")\n",
    "plt.ylabel(\"RMSE (PM2.5)\")\n",
    "plt.title(\"Effect of Training Data Size on Prediction Accuracy\")\n",
    "plt.grid()\n",
    "plt.show()\n"
   ]
  },
  {
   "cell_type": "markdown",
   "metadata": {},
   "source": [
    "### Effect of L2 Regularization on PM2.5 Prediction"
   ]
  },
  {
   "cell_type": "code",
   "execution_count": 37,
   "metadata": {},
   "outputs": [
    {
     "name": "stderr",
     "output_type": "stream",
     "text": [
      "/tmp/ipykernel_889965/1850177894.py:26: RuntimeWarning: Mean of empty slice\n",
      "  self.nparray[i][j] = np.nanmean(self.nparray[i])\n",
      "/tmp/ipykernel_889965/1850177894.py:26: RuntimeWarning: Mean of empty slice\n",
      "  self.nparray[i][j] = np.nanmean(self.nparray[i])\n",
      "100%|██████████| 10000/10000 [00:01<00:00, 5008.90it/s]\n"
     ]
    },
    {
     "name": "stdout",
     "output_type": "stream",
     "text": [
      "=> L2 regularization alpha=0 rmse: 4.233001965598413\n",
      "\n"
     ]
    },
    {
     "name": "stderr",
     "output_type": "stream",
     "text": [
      "100%|██████████| 10000/10000 [00:02<00:00, 4533.38it/s]\n"
     ]
    },
    {
     "name": "stdout",
     "output_type": "stream",
     "text": [
      "=> L2 regularization alpha=0.001 rmse: 4.2330019657033375\n",
      "\n"
     ]
    },
    {
     "name": "stderr",
     "output_type": "stream",
     "text": [
      "100%|██████████| 10000/10000 [00:02<00:00, 4561.52it/s]\n"
     ]
    },
    {
     "name": "stdout",
     "output_type": "stream",
     "text": [
      "=> L2 regularization alpha=0.01 rmse: 4.233001966647662\n",
      "\n"
     ]
    },
    {
     "name": "stderr",
     "output_type": "stream",
     "text": [
      "100%|██████████| 10000/10000 [00:02<00:00, 4311.10it/s]\n"
     ]
    },
    {
     "name": "stdout",
     "output_type": "stream",
     "text": [
      "=> L2 regularization alpha=0.1 rmse: 4.233001976091099\n",
      "\n"
     ]
    },
    {
     "name": "stderr",
     "output_type": "stream",
     "text": [
      "100%|██████████| 10000/10000 [00:01<00:00, 5373.32it/s]\n"
     ]
    },
    {
     "name": "stdout",
     "output_type": "stream",
     "text": [
      "=> L2 regularization alpha=1 rmse: 4.233002070543921\n",
      "\n"
     ]
    },
    {
     "name": "stderr",
     "output_type": "stream",
     "text": [
      "100%|██████████| 10000/10000 [00:02<00:00, 4416.76it/s]\n"
     ]
    },
    {
     "name": "stdout",
     "output_type": "stream",
     "text": [
      "=> L2 regularization alpha=10 rmse: 4.233003016917359\n",
      "\n"
     ]
    },
    {
     "data": {
      "image/png": "[encoded data removed]",
      "text/plain": [
       "<Figure size 800x500 with 1 Axes>"
      ]
     },
     "metadata": {},
     "output_type": "display_data"
    }
   ],
   "source": [
    "alpha_values = [0, 0.001, 0.01, 0.1, 1, 10]  # Regularization strengths\n",
    "errors = []\n",
    "save_name_list = ['NA','1e3', '1e2', '1e1', '1', '10']\n",
    "\n",
    "# initialize datasets\n",
    "choosen_features = [Item.PM2_5, Item.PM10, Item.NO2, Item.CO]   # using features that are highly correlated to value of PM2.5\n",
    "\n",
    "train_dataset = PM2_5('train')\n",
    "test_dataset = PM2_5('test')\n",
    "X_train, y_train = train_dataset.pred_by_features(choosen_features)\n",
    "X_test = test_dataset.pred_by_features(choosen_features)\n",
    "\n",
    "X_train = np.delete(X_train, np.s_[0], axis=0)\n",
    "y_train = np.delete(y_train, np.s_[0], axis=0)\n",
    "X_test = np.delete(X_test, np.s_[0], axis=0)\n",
    "\n",
    "n_train, dim1, dim2 = X_train.shape\n",
    "n_test, dim1, dim2 = X_test.shape\n",
    "\n",
    "X_train = X_train.reshape(n_train * dim1, dim2)\n",
    "y_train = y_train.reshape(n_train * dim1)\n",
    "X_test = X_test.reshape(n_test * dim1, dim2)\n",
    "\n",
    "# start experiment\n",
    "for alpha, save_name in zip(alpha_values, save_name_list):\n",
    "    # start training\n",
    "    model = LinearRegression(learning_rate=2e-5, n_iterations=10000, alpha=alpha)\n",
    "    model.initialize()\n",
    "    model.fit(X_train, y_train)\n",
    "    \n",
    "    y_pred_train = model.predict(X_train)\n",
    "    rmse = np.sqrt(np.mean((y_train - y_pred_train) ** 2))\n",
    "    errors.append(rmse)\n",
    "    print(f'=> L2 regularization alpha={alpha} rmse: {rmse}\\n')\n",
    "\n",
    "    y_pred = model.predict(X_test)\n",
    "\n",
    "    with open(f'submission_l2_{save_name}.csv', 'w', newline='') as f:\n",
    "        writer = csv.writer(f)\n",
    "        writer.writerow(['index', 'answer'])\n",
    "        j = 0\n",
    "        for i in range(choosen_features.index(Item.PM2_5), y_pred.shape[0], len(choosen_features)):\n",
    "            writer.writerow([f'index_{j}', f'{y_pred[i]:.2f}'])\n",
    "            j += 1\n",
    "\n",
    "# Plot results\n",
    "plt.figure(figsize=(8, 5))\n",
    "plt.plot(alpha_values, errors, marker='o', linestyle='-')\n",
    "plt.xscale(\"log\")\n",
    "plt.xlabel(\"Regularization Strength (α)\")\n",
    "plt.ylabel(\"RMSE\")\n",
    "plt.title(\"Effect of L2 Regularization on PM2.5 Prediction\")\n",
    "plt.grid()\n",
    "plt.show()"
   ]
  }
 ],
 "metadata": {
  "kernelspec": {
   "display_name": "cv",
   "language": "python",
   "name": "python3"
  },
  "language_info": {
   "codemirror_mode": {
    "name": "ipython",
    "version": 3
   },
   "file_extension": ".py",
   "mimetype": "text/x-python",
   "name": "python",
   "nbconvert_exporter": "python",
   "pygments_lexer": "ipython3",
   "version": "3.11.11"
  }
 },
 "nbformat": 4,
 "nbformat_minor": 2
}
